{
  "nbformat": 4,
  "nbformat_minor": 0,
  "metadata": {
    "colab": {
      "provenance": []
    },
    "kernelspec": {
      "name": "python3",
      "display_name": "Python 3"
    },
    "language_info": {
      "name": "python"
    }
  },
  "cells": [
    {
      "cell_type": "markdown",
      "source": [
        "# Overview Materi\n",
        "\n",
        "Source: https://www.youtube.com/watch?v=LDRbO9a6XPU"
      ],
      "metadata": {
        "id": "fQjXfMWTFXhh"
      }
    },
    {
      "cell_type": "markdown",
      "source": [
        "Jelaskan secara singkat apa itu decision tree menurut pemahamanmu!\n",
        "model prediksi berbentuk diagram pohon yang digunakan dalam machine learning"
      ],
      "metadata": {
        "id": "UH5otNgmFY4r"
      }
    },
    {
      "cell_type": "markdown",
      "source": [
        "# Import Data & Libraries"
      ],
      "metadata": {
        "id": "yR_dxhoaIGZY"
      }
    },
    {
      "cell_type": "code",
      "execution_count": 2,
      "metadata": {
        "id": "E3fobMaeFOAe"
      },
      "outputs": [],
      "source": [
        "from __future__ import print_function\n",
        "\n",
        "# label kolom\n",
        "header = [\"color\", \"diameter\", \"label\"]\n",
        "\n",
        "# data training\n",
        "training_data = [\n",
        "    ['Green', 3, 'Apple'],\n",
        "    ['Yellow', 3, 'Apple'],\n",
        "    ['Red', 1, 'Grape'],\n",
        "    ['Red', 1, 'Grape'],\n",
        "    ['Yellow', 3, 'Lemon'],]\n",
        "\n",
        "# data testing\n",
        "testing_data = [\n",
        "    ['Green', 3, 'Apple'],\n",
        "    ['Yellow', 4, 'Apple'],\n",
        "    ['Red', 2, 'Grape'],\n",
        "    ['Red', 1, 'Grape'],\n",
        "    ['Yellow', 3, 'Lemon'],]"
      ]
    },
    {
      "cell_type": "markdown",
      "source": [
        "# Fungsi Dasar"
      ],
      "metadata": {
        "id": "YMsTb3E1MWY6"
      }
    },
    {
      "cell_type": "code",
      "source": [
        "# fungsi mencari apa saja unique value dari suatu kolom\n",
        "def unique_vals(rows, col):\n",
        "    return set([row[col] for row in rows])\n",
        "\n",
        "# contoh penggunaan\n",
        "print(unique_vals(training_data, 0))\n",
        "print(unique_vals(training_data, 1))"
      ],
      "metadata": {
        "id": "Bgzx5gwhSTWp",
        "colab": {
          "base_uri": "https://localhost:8080/"
        },
        "outputId": "fe76ff87-c923-407d-f53a-5daaa138fb83"
      },
      "execution_count": 5,
      "outputs": [
        {
          "output_type": "stream",
          "name": "stdout",
          "text": [
            "{'Yellow', 'Green', 'Red'}\n",
            "{1, 3}\n"
          ]
        }
      ]
    },
    {
      "cell_type": "code",
      "source": [
        "# fungsi Menghitung jumlah unique value dari suatu kolom\n",
        "def class_counts(rows):\n",
        "    counts = {}\n",
        "    for row in rows:\n",
        "        label = row[-1]\n",
        "        if label not in counts:\n",
        "            counts[label] = 0\n",
        "        counts[label] += 1\n",
        "    return counts\n",
        "\n",
        "# contoh penggunaan\n",
        "print(class_counts(training_data))"
      ],
      "metadata": {
        "id": "hhF6uUhrJesN",
        "colab": {
          "base_uri": "https://localhost:8080/"
        },
        "outputId": "e0a5546f-82e0-4d63-eee3-d6f1f10a682c"
      },
      "execution_count": 6,
      "outputs": [
        {
          "output_type": "stream",
          "name": "stdout",
          "text": [
            "{'Apple': 2, 'Grape': 2, 'Lemon': 1}\n"
          ]
        }
      ]
    },
    {
      "cell_type": "code",
      "source": [
        "# fungsi pengecekan suatu value numerik atau bukan\n",
        "def is_numeric(value):\n",
        "    return isinstance(value, int) or isinstance(value, float)\n",
        "\n",
        "# contoh penggunaan\n",
        "print(is_numeric(7))\n",
        "print(is_numeric(\"Red\"))"
      ],
      "metadata": {
        "id": "U9mxqVcnI9vw",
        "colab": {
          "base_uri": "https://localhost:8080/"
        },
        "outputId": "f3e11867-f12b-4f9f-f4f9-e0db4ac15bf4"
      },
      "execution_count": 7,
      "outputs": [
        {
          "output_type": "stream",
          "name": "stdout",
          "text": [
            "True\n",
            "False\n"
          ]
        }
      ]
    },
    {
      "cell_type": "code",
      "source": [
        "# kelas untuk merepresentasikan pertanyaan pada decision tree\n",
        "class Question:\n",
        "\n",
        "    # inisialisasi kolom dan nilai pertanyaan\n",
        "    def __init__(self, column, value):\n",
        "        self.column = column\n",
        "        self.value = value\n",
        "\n",
        "    # mengecek apakah contoh data sesuai dengan pertanyaan\n",
        "    def match(self, example):\n",
        "        # Bandingkan nilai fitur di kolom pertanyaan dengan nilai pertanyaan.\n",
        "        val = example[self.column]\n",
        "        if is_numeric(val):\n",
        "            return val >= self.value\n",
        "        else:\n",
        "            return val == self.value\n",
        "\n",
        "    # menampilkan pertanyaan dalam format string yang mudah dibaca\n",
        "    def __repr__(self):\n",
        "        # Ini hanya helper untuk mencetak pertanyaan dalam format yang mudah dibaca.\n",
        "        condition = \"==\"\n",
        "        if is_numeric(self.value):\n",
        "            condition = \">=\"\n",
        "        return \"Is %s %s %s?\" % (\n",
        "            header[self.column], condition, str(self.value))\n",
        "\n",
        "# contoh penggunaan 1\n",
        "# Mari kita buat pertanyaan untuk mencocokkan baris pertama di data pelatihan.\n",
        "# Apakah warnanya Hijau?\n",
        "q = Question(0, 'Green')\n",
        "example = training_data[0]\n",
        "print(q.match(example))\n",
        "\n",
        "# contoh penggunaan 2\n",
        "# Apakah diameternya >= 3?\n",
        "q = Question(1, 3)\n",
        "example = training_data[0]\n",
        "print(q.match(example))"
      ],
      "metadata": {
        "id": "MekftmdeLPRo",
        "colab": {
          "base_uri": "https://localhost:8080/"
        },
        "outputId": "2e3e993a-2bb3-4bcd-cce7-be5b187c61bd"
      },
      "execution_count": 8,
      "outputs": [
        {
          "output_type": "stream",
          "name": "stdout",
          "text": [
            "True\n",
            "True\n"
          ]
        }
      ]
    },
    {
      "cell_type": "code",
      "source": [
        "# membagi dataset menjadi dua berdasarkan pertanyaan\n",
        "def partition(rows, question):\n",
        "    true_rows, false_rows = [], []\n",
        "    for row in rows:\n",
        "        if question.match(row):\n",
        "            true_rows.append(row)\n",
        "        else:\n",
        "            false_rows.append(row)\n",
        "    return true_rows, false_rows\n",
        "\n",
        "# contoh penggunaan\n",
        "# Mari kita pisahkan data pelatihan berdasarkan pertanyaan.\n",
        "# Apakah warnanya Merah?\n",
        "q = Question(0, 'Red')\n",
        "true_rows, false_rows = partition(training_data, q)\n",
        "print(true_rows)\n",
        "print(false_rows)"
      ],
      "metadata": {
        "id": "Y3lTf9NbL8Ik",
        "colab": {
          "base_uri": "https://localhost:8080/"
        },
        "outputId": "06baca80-e877-43cb-b423-c8a8533f2773"
      },
      "execution_count": 9,
      "outputs": [
        {
          "output_type": "stream",
          "name": "stdout",
          "text": [
            "[['Red', 1, 'Grape'], ['Red', 1, 'Grape']]\n",
            "[['Green', 3, 'Apple'], ['Yellow', 3, 'Apple'], ['Yellow', 3, 'Lemon']]\n"
          ]
        }
      ]
    },
    {
      "cell_type": "markdown",
      "source": [
        "**apa itu gini impurity?**\n",
        "<br> gini impurity berfungsi mengukur tingkat ketidakmurnian atau ketidakteraturan pada sebuah simpul (node) dalam pohon"
      ],
      "metadata": {
        "id": "X4D5BkyeMdSG"
      }
    },
    {
      "cell_type": "code",
      "source": [
        "# menghitung nilai Gini Impurity untuk sebuah dataset\n",
        "def gini(rows):\n",
        "    counts = class_counts(rows)\n",
        "    impurity = 1\n",
        "    for lbl in counts:\n",
        "        prob_of_lbl = counts[lbl] / float(len(rows))\n",
        "        impurity -= prob_of_lbl**2\n",
        "    return impurity\n",
        "\n",
        "# contoh penggunaan\n",
        "print(gini(training_data))"
      ],
      "metadata": {
        "id": "DmAnmSzFMKtA",
        "colab": {
          "base_uri": "https://localhost:8080/"
        },
        "outputId": "9486ae17-3e88-4d8c-cae1-7618badbcde5"
      },
      "execution_count": 10,
      "outputs": [
        {
          "output_type": "stream",
          "name": "stdout",
          "text": [
            "0.6399999999999999\n"
          ]
        }
      ]
    },
    {
      "cell_type": "markdown",
      "source": [
        "**apa itu information gain?**\n",
        "<br> information gain berfungsi mengukur seberapa efektif sebuah fitur dalam memisahkan data berdasarkan kelas-kelasnya"
      ],
      "metadata": {
        "id": "SyxWlLNOM_2U"
      }
    },
    {
      "cell_type": "code",
      "source": [
        "# menghitung nilai Information Gain dari pemisahan dataset\n",
        "def info_gain(left, right, current_uncertainty):\n",
        "    p = float(len(left)) / (len(left) + len(right))\n",
        "    return current_uncertainty - p * gini(left) - (1 - p) * gini(right)\n",
        "\n",
        "# contoh penggunaan\n",
        "# Hitung Gini Impurity untuk seluruh dataset\n",
        "current_uncertainty = gini(training_data)\n",
        "\n",
        "# Bagaimana Information Gain dari membagi berdasarkan warna?\n",
        "# Apakah warnanya Hijau?\n",
        "true_rows, false_rows = partition(training_data, Question(0, 'Green'))\n",
        "print(info_gain(true_rows, false_rows, current_uncertainty))\n",
        "\n",
        "# Bagaimana Information Gain dari membagi berdasarkan diameter?\n",
        "# Apakah diameternya >= 3?\n",
        "true_rows, false_rows = partition(training_data, Question(1, 3))\n",
        "print(info_gain(true_rows, false_rows, current_uncertainty))"
      ],
      "metadata": {
        "id": "rObVucEEMiIZ",
        "colab": {
          "base_uri": "https://localhost:8080/"
        },
        "outputId": "4a9103ae-ad9a-46dc-9147-ac35b8ac6a89"
      },
      "execution_count": 11,
      "outputs": [
        {
          "output_type": "stream",
          "name": "stdout",
          "text": [
            "0.1399999999999999\n",
            "0.37333333333333324\n"
          ]
        }
      ]
    },
    {
      "cell_type": "code",
      "source": [
        "# mencari pertanyaan terbaik untuk membagi dataset berdasarkan information gain tertinggi\n",
        "def find_best_split(rows):\n",
        "    best_gain = 0\n",
        "    best_question = None\n",
        "    current_uncertainty = gini(rows)\n",
        "    n_features = len(rows[0]) - 1\n",
        "\n",
        "    for col in range(n_features):\n",
        "        values = set([row[col] for row in rows])\n",
        "        for val in values:\n",
        "            question = Question(col, val)\n",
        "            true_rows, false_rows = partition(rows, question)\n",
        "\n",
        "            # Skip this split if it doesn't divide the dataset\n",
        "            if len(true_rows) == 0 or len(false_rows) == 0:\n",
        "                continue\n",
        "\n",
        "            gain = info_gain(true_rows, false_rows, current_uncertainty)\n",
        "\n",
        "            if gain >= best_gain:\n",
        "                best_gain, best_question = gain, question\n",
        "\n",
        "    return best_gain, best_question\n",
        "\n",
        "# contoh penggunaan\n",
        "best_gain, best_question = find_best_split(training_data)\n",
        "print(best_gain)\n",
        "print(best_question)"
      ],
      "metadata": {
        "id": "OK8Lc7koOIyS",
        "colab": {
          "base_uri": "https://localhost:8080/"
        },
        "outputId": "a6b39792-f5f2-4bba-f2b3-b73be922c13b"
      },
      "execution_count": 12,
      "outputs": [
        {
          "output_type": "stream",
          "name": "stdout",
          "text": [
            "0.37333333333333324\n",
            "Is diameter >= 3?\n"
          ]
        }
      ]
    },
    {
      "cell_type": "markdown",
      "source": [
        "# Fungsi Decision Tree"
      ],
      "metadata": {
        "id": "t225xaaIPGow"
      }
    },
    {
      "cell_type": "code",
      "source": [
        "# merepresentasikan node daun (leaf) pada decision tree yang berisi hasil prediksi\n",
        "class Leaf:\n",
        "\n",
        "    # inisialisasi leaf dengan menghitung jumlah kemunculan tiap kelas\n",
        "    def __init__(self, rows):\n",
        "        self.counts = class_counts(rows)"
      ],
      "metadata": {
        "id": "3KXNVwMPOZ5c"
      },
      "execution_count": 13,
      "outputs": []
    },
    {
      "cell_type": "code",
      "source": [
        "# merepresentasikan node keputusan (decision node) yang berisi pertanyaan dan cabang\n",
        "class Decision_Node:\n",
        "\n",
        "    # inisialisasi node dengan pertanyaan, cabang benar, dan cabang salah\n",
        "    def __init__(self,\n",
        "                 question,\n",
        "                 true_branch,\n",
        "                 false_branch):\n",
        "        self.question = question\n",
        "        self.true_branch = true_branch\n",
        "        self.false_branch = false_branch"
      ],
      "metadata": {
        "id": "gktUwUY-P-eN"
      },
      "execution_count": 14,
      "outputs": []
    },
    {
      "cell_type": "code",
      "source": [
        "# membangun decision tree secara rekursif\n",
        "def build_tree(rows):\n",
        "    # Mencoba membagi dataset di setiap fitur\n",
        "    # mencari pertanyaan terbaik dengan information gain tertinggi.\n",
        "    gain, question = find_best_split(rows)\n",
        "\n",
        "    # Base case: Tidak ada information gain\n",
        "    # Ini berarti kita sudah di node daun.\n",
        "    if gain == 0:\n",
        "        return Leaf(rows)\n",
        "\n",
        "    # Jika ada information gain, bagi dataset berdasarkan pertanyaan terbaik.\n",
        "    true_rows, false_rows = partition(rows, question)\n",
        "\n",
        "    # Rekursif membangun cabang true.\n",
        "    true_branch = build_tree(true_rows)\n",
        "\n",
        "    # Rekursif membangun cabang false.\n",
        "    false_branch = build_tree(false_rows)\n",
        "\n",
        "    # Mengembalikan node keputusan.\n",
        "    return Decision_Node(question, true_branch, false_branch)"
      ],
      "metadata": {
        "id": "_cWHvsMKPPsk"
      },
      "execution_count": 15,
      "outputs": []
    },
    {
      "cell_type": "code",
      "source": [
        "# mencetak struktur decision tree secara rekursif dalam format teks\n",
        "def print_tree(node, spacing=\"\"):\n",
        "\n",
        "    # base case: jika sudah mencapai leaf\n",
        "    if isinstance(node, Leaf):\n",
        "        print (spacing + \"Predict\", node.counts)\n",
        "        return\n",
        "\n",
        "    # mencetak pertanyaan pada node saat ini\n",
        "    print (spacing + str(node.question))\n",
        "\n",
        "    # mencetak cabang true secara rekursif\n",
        "    print (spacing + '--> True:')\n",
        "    print_tree(node.true_branch, spacing + \"  \")\n",
        "\n",
        "    # mencetak cabang false secara rekursif\n",
        "    print (spacing + '--> False:')\n",
        "    print_tree(node.false_branch, spacing + \"  \")\n",
        "\n",
        "# contoh penggunaan\n",
        "my_tree = build_tree(training_data)\n",
        "print_tree(my_tree)"
      ],
      "metadata": {
        "id": "tx_AbjiYPS05",
        "colab": {
          "base_uri": "https://localhost:8080/"
        },
        "outputId": "45fd6048-ff8a-431b-8eff-60271052011c"
      },
      "execution_count": 16,
      "outputs": [
        {
          "output_type": "stream",
          "name": "stdout",
          "text": [
            "Is diameter >= 3?\n",
            "--> True:\n",
            "  Is color == Yellow?\n",
            "  --> True:\n",
            "    Predict {'Apple': 1, 'Lemon': 1}\n",
            "  --> False:\n",
            "    Predict {'Apple': 1}\n",
            "--> False:\n",
            "  Predict {'Grape': 2}\n"
          ]
        }
      ]
    },
    {
      "cell_type": "code",
      "source": [
        "# mengklasifikasikan satu baris data menggunakan decision tree\n",
        "def classify(row, node):\n",
        "\n",
        "    # base case: jika sudah mencapai leaf\n",
        "    if isinstance(node, Leaf):\n",
        "        return node.counts\n",
        "\n",
        "    # menentukan apakah mengikuti cabang true atau cabang false\n",
        "    # dengan membandingkan nilai fitur pada baris dengan pertanyaan di node\n",
        "    if node.question.match(row):\n",
        "        return classify(row, node.true_branch)\n",
        "    else:\n",
        "        return classify(row, node.false_branch)\n",
        "\n",
        "# contoh penggunaan\n",
        "# Klasifikasikan baris pertama dari data pengujian\n",
        "print(classify(testing_data[0], my_tree))"
      ],
      "metadata": {
        "id": "tchvhQc-PVC2",
        "colab": {
          "base_uri": "https://localhost:8080/"
        },
        "outputId": "e7aa44fa-2aec-45b3-9141-2c7eac29b13b"
      },
      "execution_count": 17,
      "outputs": [
        {
          "output_type": "stream",
          "name": "stdout",
          "text": [
            "{'Apple': 1}\n"
          ]
        }
      ]
    },
    {
      "cell_type": "code",
      "source": [
        "# menampilkan prediksi pada leaf dalam format persentase\n",
        "def print_leaf(counts):\n",
        "    total = sum(counts.values())\n",
        "    probs = {}\n",
        "    for lbl in counts.keys():\n",
        "        probs[lbl] = str(int(counts[lbl] / total * 100)) + \"%\"\n",
        "    return probs\n",
        "\n",
        "# contoh penggunaan\n",
        "print(print_leaf(classify(testing_data[0], my_tree)))\n",
        "print(print_leaf(classify(testing_data[1], my_tree)))"
      ],
      "metadata": {
        "id": "w8r0lzWpQM7c",
        "colab": {
          "base_uri": "https://localhost:8080/"
        },
        "outputId": "a6781ad7-92f8-4b44-8738-f30ac7f2bf9a"
      },
      "execution_count": 18,
      "outputs": [
        {
          "output_type": "stream",
          "name": "stdout",
          "text": [
            "{'Apple': '100%'}\n",
            "{'Apple': '50%', 'Lemon': '50%'}\n"
          ]
        }
      ]
    },
    {
      "cell_type": "markdown",
      "source": [
        "# Predict Using Decision Tree"
      ],
      "metadata": {
        "id": "JLT1_TuuQWlI"
      }
    },
    {
      "cell_type": "code",
      "source": [
        "# menguji decision tree dengan data uji dan membandingkan hasil prediksi dengan label asli\n",
        "for row in testing_data:\n",
        "    print(\"Actual: %s. Predicted: %s\" %\n",
        "          (row[-1], print_leaf(classify(row, my_tree))))"
      ],
      "metadata": {
        "id": "DhG5NCwHQSlF",
        "colab": {
          "base_uri": "https://localhost:8080/"
        },
        "outputId": "4c6f915b-e1be-403c-f145-c81d71f265f8"
      },
      "execution_count": 19,
      "outputs": [
        {
          "output_type": "stream",
          "name": "stdout",
          "text": [
            "Actual: Apple. Predicted: {'Apple': '100%'}\n",
            "Actual: Apple. Predicted: {'Apple': '50%', 'Lemon': '50%'}\n",
            "Actual: Grape. Predicted: {'Grape': '100%'}\n",
            "Actual: Grape. Predicted: {'Grape': '100%'}\n",
            "Actual: Lemon. Predicted: {'Apple': '50%', 'Lemon': '50%'}\n"
          ]
        }
      ]
    }
  ]
}